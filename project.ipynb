{
 "cells": [
  {
   "cell_type": "markdown",
   "id": "8b5bfbed-4bac-4e79-a8aa-5706df256edc",
   "metadata": {},
   "source": [
    "### 필요한 라이브러리 import"
   ]
  },
  {
   "cell_type": "code",
   "execution_count": 44,
   "id": "cf92118d-868f-4397-ada7-eb245147b412",
   "metadata": {},
   "outputs": [],
   "source": [
    "from openai import OpenAI\n",
    "from dotenv import load_dotenv\n",
    "import os\n",
    "import sys\n",
    "import urllib.request\n",
    "import urllib.parse\n",
    "import json\n",
    "import requests\n",
    "\n",
    "#selenium의 webdriver를 사용\n",
    "from selenium import webdriver\n",
    "from selenium.webdriver.common.by import By\n",
    "from selenium.common.exceptions import NoSuchElementException\n",
    "from selenium.common.exceptions import TimeoutException\n",
    "from selenium.webdriver.support.ui import WebDriverWait\n",
    "from selenium.webdriver.support import expected_conditions as EC\n",
    "\n",
    "import re\n",
    "import numpy as np\n",
    "import faiss\n",
    "from sklearn.metrics.pairwise import cosine_similarity"
   ]
  },
  {
   "cell_type": "markdown",
   "id": "8545f97d-d4eb-45b7-9e4b-8fea0c27b2fa",
   "metadata": {},
   "source": [
    "### OPENAI, kakao rest api, naver api 키를 .env 파일로부터 load"
   ]
  },
  {
   "cell_type": "code",
   "execution_count": 2,
   "id": "3e5158b3-fbe2-4b4b-bd0e-8f9964d3da44",
   "metadata": {},
   "outputs": [],
   "source": [
    "# env 파일 로드\n",
    "load_dotenv()\n",
    "\n",
    "\n",
    "# openai api, kakao rest api, naver api 키 로드\n",
    "OPENAI_API_KEY = os.getenv('OPENAI_API_KEY')\n",
    "KAKAO_REST_API_KEY = os.getenv('KAKAO_RESTAPI_KEY')\n",
    "NAVER_API_CLIENT_ID = os.getenv('NAVER_API_CLIENT_ID')\n",
    "NAVER_API_CLIENT_SECRET = os.getenv('NAVER_API_CLIENT_SECRET')\n",
    "\n",
    "# OpenAI client 정의\n",
    "client = OpenAI(api_key = OPENAI_API_KEY)\n",
    "\n",
    "\n",
    "system_prompt = system_prompt = \"\"\"반드시 다음 규칙을 지켜 답변하시오:\n",
    "1. 제공된 문맥에만 기반하여 답변\n",
    "2. 문맥에 없는 정보는 '관련 정보를 찾을 수 없습니다'로 통일\n",
    "3. 긍정, 부정적인지를 합 100%으로 각각 답변\"\"\""
   ]
  },
  {
   "cell_type": "markdown",
   "id": "76f9072d-fcb1-42f6-a59e-dd6e9687681c",
   "metadata": {},
   "source": [
    "### OpenAI api를 활용해 ChatGPT 활용하기"
   ]
  },
  {
   "cell_type": "code",
   "execution_count": 17,
   "id": "7723cc48-9667-4292-8a7a-ccd58357feba",
   "metadata": {},
   "outputs": [],
   "source": [
    "def openai_message(message):\n",
    "    context_chunks = search(query)\n",
    "    context = \"\\n\\n\".join([chunk[\"text\"] for chunk in context_chunks])\n",
    "    \n",
    "    completion = client.chat.completions.create(\n",
    "    model=\"gpt-4o-mini\",\n",
    "    messages=[\n",
    "        { \"role\": \"system\", \"content\": system_prompt },\n",
    "        { \"role\": \"user\", \"content\": f\"문맥:\\n{context}\\n\\n출처: {url}\\n\\n질문: {message}\" }\n",
    "    ],\n",
    "    temperature = 0.3,\n",
    "    max_tokens = 300 # 출력 길이 제한\n",
    "    )\n",
    "\n",
    "    print(completion.choices[0].message.content)"
   ]
  },
  {
   "cell_type": "markdown",
   "id": "38a31080-9ece-4a53-b741-ded4bfad071b",
   "metadata": {},
   "source": [
    "### 카카오맵 Rest API를 활용해 좌표를 행정구역정보를 변환하기"
   ]
  },
  {
   "cell_type": "code",
   "execution_count": 18,
   "id": "e99bfc3a-7ce3-4741-8232-4205c52d8c32",
   "metadata": {},
   "outputs": [],
   "source": [
    "def transform_coordinates(longitude, latitude):\n",
    "    url = 'https://dapi.kakao.com/v2/local/geo/coord2regioncode.json'\n",
    "    headers = {'Authorization': f'KakaoAK {KAKAO_REST_API_KEY}'}\n",
    "    params = {'x': longitude, 'y': latitude}\n",
    "    \n",
    "    response = requests.get(url, headers=headers, params=params)\n",
    "    \n",
    "    # 데이터를 성공적으로 불러온 경우, code = 200\n",
    "    if response.status_code == 200:\n",
    "        return response.json()\n",
    "    else:\n",
    "        return None"
   ]
  },
  {
   "cell_type": "markdown",
   "id": "531d7201-15c4-40fe-96cd-f0661bfd89e7",
   "metadata": {},
   "source": [
    "### 카카오맵 Rest API를 활용해 해당 좌표의 카테고리별 결과 불러오기"
   ]
  },
  {
   "cell_type": "code",
   "execution_count": 19,
   "id": "e9f4ec54-0855-4d60-8ed2-2a65f282e487",
   "metadata": {},
   "outputs": [],
   "source": [
    "def search_by_category(longitude, latitude, category_code):\n",
    "    url = 'https://dapi.kakao.com/v2/local/search/category.json'\n",
    "    headers = {'Authorization': f'KakaoAK {KAKAO_REST_API_KEY}'}\n",
    "    params = {\n",
    "        'category_group_code': category_code,\n",
    "        'x': longitude,\n",
    "        'y': latitude,\n",
    "        'radius': 2000,  # 검색 반경 설정 (단위: 미터)\n",
    "        'size': 15       # 한 페이지에 보여질 결과 개수\n",
    "    }\n",
    "\n",
    "    # API 요청\n",
    "    response = requests.get(url, headers=headers, params=params)\n",
    "\n",
    "    # 응답 처리\n",
    "    if response.status_code == 200:\n",
    "        return response.json()  # 성공적으로 데이터를 반환\n",
    "    else:\n",
    "        print(f\"Error: {response.status_code}, {response.text}\")\n",
    "        return None  # 실패 시 None 반환"
   ]
  },
  {
   "cell_type": "markdown",
   "id": "d94b00f0-8088-4bc1-8a61-09364316afe1",
   "metadata": {},
   "source": [
    "### 네이버 API를 통한 키워드 검색 (검색 결과가 너무 안좋아서 사용 X)"
   ]
  },
  {
   "cell_type": "code",
   "execution_count": 1,
   "id": "f5ffa418-5ea4-41ad-923a-084c68e9be07",
   "metadata": {},
   "outputs": [],
   "source": [
    "# def search_naver_blog(keyword):\n",
    "#     client_id = NAVER_API_CLIENT_ID\n",
    "#     client_secret = NAVER_API_CLIENT_SECRET\n",
    "#     # 블로그에 검색할 키워드\n",
    "#     encText = urllib.parse.quote(keyword.encode(encoding = 'UTF-8'))\n",
    "#     url = \"https://openapi.naver.com/v1/search/blog?query=\" + encText\n",
    "    \n",
    "#     request = urllib.request.Request(url)\n",
    "#     request.add_header(\"X-Naver-Client-Id\",client_id)\n",
    "#     request.add_header(\"X-Naver-Client-Secret\",client_secret)\n",
    "#     response = urllib.request.urlopen(request)\n",
    "#     rescode = response.getcode()\n",
    "\n",
    "#     # 정상적으로 블로그글이 로드된 경우\n",
    "#     if(rescode==200):\n",
    "#         response_body = response.read()\n",
    "#         return json.loads(response_body.decode('utf-8'))\n",
    "#     # 오류 발생의 경우\n",
    "#     else:\n",
    "#         print(\"Error Code:\" + rescode)"
   ]
  },
  {
   "cell_type": "markdown",
   "id": "8dcef766-a59e-4580-988e-993317e64124",
   "metadata": {},
   "source": [
    "### 블로그 링크 크롤링 (네이버 API를 사용하지 않으므로, 현재 사용 X)"
   ]
  },
  {
   "cell_type": "code",
   "execution_count": 7,
   "id": "42021551-c35d-40ec-86f9-29bfe38e9740",
   "metadata": {},
   "outputs": [],
   "source": [
    "# def get_naver_blog_content(url):\n",
    "#     # 본문 내용을 저장할 리스트\n",
    "#     contents = []\n",
    "    \n",
    "#     # Selenium WebDriver 설정하기\n",
    "#     driver = webdriver.Chrome()\n",
    "\n",
    "#     # 창 숨기는 옵션 추가\n",
    "#     driver.add_argument(\"headless\")\n",
    "\n",
    "#     try:\n",
    "#         driver.get(url)\n",
    "#         # iframe 로딩 대기 및 전환\n",
    "#         WebDriverWait(driver, 10).until(\n",
    "#             EC.frame_to_be_available_and_switch_to_it((By.ID, \"mainFrame\"))\n",
    "#         )\n",
    "\n",
    "#         #본문 내용 크롤링하기\n",
    "#         try:\n",
    "#             # 최신 네이버 블로그\n",
    "#             a = driver.find_element(By.CSS_SELECTOR,'div.se-main-container').text\n",
    "#             contents.append(a)\n",
    "            \n",
    "#         except NoSuchElementException:\n",
    "#             # 구 버전 네이버 블로그\n",
    "#             a = driver.find_element(By.CSS_SELECTOR,'div#content-area').text\n",
    "#             contents.append(a)\n",
    "#         # print('본문: \\n', a)\n",
    "        \n",
    "#     except Exception as e:\n",
    "#         print(f\"오류 발생: {e}\")\n",
    "        \n",
    "#     finally:\n",
    "#         driver.quit() #창닫기\n",
    "#         print(\"<<본문 크롤링이 완료되었습니다.>>\")\n",
    "\n",
    "#     return contents"
   ]
  },
  {
   "cell_type": "markdown",
   "id": "22a6d81d-f92d-438d-a940-72eb38203085",
   "metadata": {},
   "source": [
    "### Selenium으로 네이버 지도 크롤링"
   ]
  },
  {
   "cell_type": "markdown",
   "id": "9d6d9977-7a48-4dd6-966c-eb2d146d4d56",
   "metadata": {},
   "source": [
    "##### CSS를 찾을 때까지 num 만큼 대기하는 함수"
   ]
  },
  {
   "cell_type": "code",
   "execution_count": 18,
   "id": "ac252299-4302-4483-8213-52266684f75e",
   "metadata": {},
   "outputs": [],
   "source": [
    "def css_find(num, code):\n",
    "    try:\n",
    "        wait = WebDriverWait(driver, num).until(\n",
    "                    EC.presence_of_element_located((By.CSS_SELECTOR, code))\n",
    "               )\n",
    "    except:\n",
    "        print(f\"{code} 태그를 찾지 못하였습니다.\")\n",
    "        driver.quit()\n",
    "    return wait"
   ]
  },
  {
   "cell_type": "markdown",
   "id": "69e94c34-d977-4d8b-8a31-2d926d29b2e1",
   "metadata": {},
   "source": [
    "##### 검색 결과 노출 영역(searchIframe)으로 프레임 변경"
   ]
  },
  {
   "cell_type": "code",
   "execution_count": 63,
   "id": "4a369710-3232-49a0-aff3-ded0c0fd42cb",
   "metadata": {},
   "outputs": [],
   "source": [
    "def search_iframe(driver, timeout: int = 5) -> str:\n",
    "    \"\"\"\n",
    "    검색 결과 수에 따라 적절한 iframe으로 전환 (단일/다중 결과 처리)\n",
    "    \n",
    "    Args:\n",
    "        timeout (int): 결과 대기 시간 (기본 10초)\n",
    "        \n",
    "    Returns:\n",
    "        str: \"single\" 또는 \"multi\" (결과 상태 반환)\n",
    "    \"\"\"\n",
    "    \n",
    "    driver.switch_to.default_content()\n",
    "    \n",
    "    try:\n",
    "        # entryIframe 확인 (단일 결과)\n",
    "        if WebDriverWait(driver, timeout).until(\n",
    "            EC.presence_of_element_located((By.XPATH, '//*[@id=\"entryIframe\"]'))\n",
    "        ):\n",
    "            driver.switch_to.frame(\"entryIframe\")\n",
    "            return \"single\"\n",
    "    except TimeoutException:\n",
    "        pass  # entryIframe이 없으면 넘어감\n",
    "    \n",
    "    try:\n",
    "        # searchIframe 확인 (다중 결과)\n",
    "        if WebDriverWait(driver, timeout).until(\n",
    "            EC.presence_of_element_located((By.XPATH, '//*[@id=\"searchIframe\"]'))\n",
    "        ):\n",
    "            driver.switch_to.frame(\"searchIframe\")\n",
    "            return \"multi\"\n",
    "    except TimeoutException:\n",
    "        raise TimeoutException(\"entryIframe과 searchIframe 모두 로드되지 않았습니다.\")"
   ]
  },
  {
   "cell_type": "code",
   "execution_count": 58,
   "id": "d98adbbc-b737-4772-a5e4-310d4c7bec43",
   "metadata": {},
   "outputs": [],
   "source": [
    "def get_review_content(keyword: str) -> list:\n",
    "    # 본문 내용을 저장할 리스트\n",
    "    contents = []\n",
    "    \n",
    "    # Selenium WebDriver 설정하기\n",
    "    driver = webdriver.Chrome()\n",
    "    driver.get(f\"https://map.naver.com/v5/search/{keyword}\")\n",
    "    \n",
    "    # # 창 숨기는 옵션 추가\n",
    "    # driver.add_argument(\"headless\")\n",
    "\n",
    "    result_status = search_iframe(driver)\n",
    "\n",
    "    if result_status == \"single\":\n",
    "        print(\"단일 검색 결과입니다.\")\n",
    "        # TODO: 단일 결과이므로, 바로 크롤링하기.\n",
    "    \n",
    "    elif result_status == \"multi\":\n",
    "        print(\"다중 검색 결과입니다.\")\n",
    "        # TODO: searchIframe에서 첫 번째 결과 클릭 후 entryIframe으로 이동"
   ]
  },
  {
   "cell_type": "code",
   "execution_count": 65,
   "id": "0d055271-10d3-4c16-9f09-fc0d018087fe",
   "metadata": {},
   "outputs": [
    {
     "name": "stdout",
     "output_type": "stream",
     "text": [
      "단일 검색 결과입니다.\n"
     ]
    }
   ],
   "source": [
    "get_review_content(\"만석식당 강원대점\")"
   ]
  },
  {
   "cell_type": "code",
   "execution_count": 64,
   "id": "346937cc-f514-4808-80b9-2f739b5b53df",
   "metadata": {},
   "outputs": [
    {
     "name": "stdout",
     "output_type": "stream",
     "text": [
      "다중 검색 결과입니다.\n"
     ]
    }
   ],
   "source": [
    "get_review_content(\"만석식당\")"
   ]
  },
  {
   "cell_type": "code",
   "execution_count": 8,
   "id": "c45e73f0-4528-4c9c-8bb0-e273fdac61c6",
   "metadata": {},
   "outputs": [],
   "source": [
    "# 2. 데이터 정리\n",
    "def clean_text(text):\n",
    "    # 입력값이 문자열인지 확인\n",
    "    if not isinstance(text, str):\n",
    "        text = str(text)  # 문자열로 변환\n",
    "    text = re.sub(r\"[^\\w\\s가-힣]\", \" \", text)  # 특수문자 및 이모지 제거\n",
    "    text = re.sub(r\"\\s+\", \" \", text).strip()  # 공백 정리\n",
    "    return text"
   ]
  },
  {
   "cell_type": "code",
   "execution_count": 9,
   "id": "c5f7bb62-4ae3-4295-a37a-22445c82be73",
   "metadata": {},
   "outputs": [],
   "source": [
    "# 3. 청크 분할\n",
    "def chunk_text(text, chunk_size=300, overlap=50):\n",
    "    words = text.split()\n",
    "    chunks = []\n",
    "    for i in range(0, len(words), chunk_size - overlap):\n",
    "        chunk = \" \".join(words[i:i+chunk_size])\n",
    "        if len(chunk) > 10:  # 10자 미만 청크 제외\n",
    "            chunks.append(chunk)\n",
    "    return chunks if chunks else [\"[No valid chunks]\"]  # 빈 청크 방지"
   ]
  },
  {
   "cell_type": "code",
   "execution_count": 10,
   "id": "97fbdd09-c47d-4dee-a2c6-3f661515ff0c",
   "metadata": {},
   "outputs": [],
   "source": [
    "# 4. 임베딩 생성\n",
    "def get_embedding(text):\n",
    "    response = client.embeddings.create(\n",
    "        input=text,\n",
    "        model=\"text-embedding-3-small\"\n",
    "    )\n",
    "    return response.data[0].embedding"
   ]
  },
  {
   "cell_type": "code",
   "execution_count": 11,
   "id": "add47427-1554-488f-a7aa-3783d9841ce3",
   "metadata": {},
   "outputs": [],
   "source": [
    "def search(query, top_k=3):\n",
    "    if not metadata_store:\n",
    "        return []\n",
    "    \n",
    "    # 쿼리 임베딩 생성\n",
    "    query_embedding = get_embedding(query)\n",
    "    \n",
    "    # FAISS 검색 (k 필수 지정)\n",
    "    distances, indices = index.search(\n",
    "        np.array([query_embedding]).astype('float32'),  # 2D 배열로 변환\n",
    "        top_k  # 상위 k개 결과 요청\n",
    "    )\n",
    "    \n",
    "    # 유효한 인덱스 필터링\n",
    "    valid_indices = [i for i in indices[0] if i < len(metadata_store)]\n",
    "    return [metadata_store[i] for i in valid_indices]"
   ]
  },
  {
   "cell_type": "code",
   "execution_count": 12,
   "id": "cbfed05f-d5e1-4cb2-96e8-93ba65485f77",
   "metadata": {},
   "outputs": [],
   "source": [
    "# 5. 벡터 DB 초기화\n",
    "embedding_dim = 1536  # text-embedding-3-small 차원\n",
    "index = faiss.IndexFlatL2(embedding_dim)\n",
    "metadata_store = []"
   ]
  },
  {
   "cell_type": "markdown",
   "id": "f9c6d000-352b-4a99-a012-04938b7e3d83",
   "metadata": {},
   "source": [
    "### main 함수 실행 part"
   ]
  },
  {
   "cell_type": "code",
   "execution_count": 13,
   "id": "c75c8023-7d5d-46eb-b8b7-e12046de798f",
   "metadata": {
    "scrolled": true
   },
   "outputs": [
    {
     "name": "stdout",
     "output_type": "stream",
     "text": [
      "{'documents': [{'address_name': '강원특별자치도 춘천시 효자동 618-4', 'category_group_code': 'FD6', 'category_group_name': '음식점', 'category_name': '음식점 > 중식', 'distance': '265', 'id': '1362999570', 'phone': '0507-1415-2733', 'place_name': '육림객잔', 'place_url': 'http://place.map.kakao.com/1362999570', 'road_address_name': '강원특별자치도 춘천시 서부대성로 207', 'x': '127.74155390732444', 'y': '37.87427198463118'}, {'address_name': '강원특별자치도 춘천시 효자동 174-59', 'category_group_code': 'FD6', 'category_group_name': '음식점', 'category_name': '음식점 > 한식 > 육류,고기 > 닭요리', 'distance': '738', 'id': '18879265', 'phone': '033-243-2888', 'place_name': '진미닭갈비 본점', 'place_url': 'http://place.map.kakao.com/18879265', 'road_address_name': '강원특별자치도 춘천시 백령로 51', 'x': '127.736742118901', 'y': '37.8681542435598'}, {'address_name': '강원특별자치도 춘천시 효자동 633-11', 'category_group_code': 'FD6', 'category_group_name': '음식점', 'category_name': '음식점 > 양식 > 피자', 'distance': '272', 'id': '2135313009', 'phone': '033-911-9023', 'place_name': '브릭스피자', 'place_url': 'http://place.map.kakao.com/2135313009', 'road_address_name': '강원특별자치도 춘천시 서부대성로 255', 'x': '127.746381497777', 'y': '37.872414391653'}, {'address_name': '강원특별자치도 춘천시 후평동 801-13', 'category_group_code': 'FD6', 'category_group_name': '음식점', 'category_name': '음식점 > 한식 > 육류,고기 > 닭요리', 'distance': '975', 'id': '46094792', 'phone': '033-253-8635', 'place_name': '1.5닭갈비', 'place_url': 'http://place.map.kakao.com/46094792', 'road_address_name': '강원특별자치도 춘천시 후만로 77', 'x': '127.753131738285', 'y': '37.8763535115171'}, {'address_name': '강원특별자치도 춘천시 운교동 188-5', 'category_group_code': 'FD6', 'category_group_name': '음식점', 'category_name': '음식점 > 한식 > 육류,고기', 'distance': '954', 'id': '26985623', 'phone': '033-241-3944', 'place_name': '큰집한우', 'place_url': 'http://place.map.kakao.com/26985623', 'road_address_name': '강원특별자치도 춘천시 서부대성로 135', 'x': '127.73497457051158', 'y': '37.8778448887443'}, {'address_name': '강원특별자치도 춘천시 효자동 744-17', 'category_group_code': 'FD6', 'category_group_name': '음식점', 'category_name': '음식점 > 한식 > 설렁탕', 'distance': '794', 'id': '10119596', 'phone': '033-256-3808', 'place_name': '감미옥', 'place_url': 'http://place.map.kakao.com/10119596', 'road_address_name': '강원특별자치도 춘천시 춘천로 217', 'x': '127.737840664024', 'y': '37.8780251650155'}, {'address_name': '강원특별자치도 춘천시 효자동 652', 'category_group_code': 'FD6', 'category_group_name': '음식점', 'category_name': '음식점 > 중식 > 중국요리', 'distance': '752', 'id': '27236241', 'phone': '033-254-2591', 'place_name': '중화루', 'place_url': 'http://place.map.kakao.com/27236241', 'road_address_name': '강원특별자치도 춘천시 둥지길 5-17', 'x': '127.73576998436', 'y': '37.875537143229'}, {'address_name': '강원특별자치도 춘천시 효자동 629-15', 'category_group_code': 'FD6', 'category_group_name': '음식점', 'category_name': '음식점 > 한식', 'distance': '156', 'id': '26923504', 'phone': '033-241-5492', 'place_name': '만석식당 강원대점', 'place_url': 'http://place.map.kakao.com/26923504', 'road_address_name': '강원특별자치도 춘천시 백령로138번길 35', 'x': '127.7444579290839', 'y': '37.87337705207289'}, {'address_name': '강원특별자치도 춘천시 효자동 626-14', 'category_group_code': 'FD6', 'category_group_name': '음식점', 'category_name': '음식점 > 한식 > 육류,고기 > 닭요리', 'distance': '137', 'id': '26438295', 'phone': '033-252-8136', 'place_name': '봉수닭갈비', 'place_url': 'http://place.map.kakao.com/26438295', 'road_address_name': '강원특별자치도 춘천시 서부대성로227번길 3-1', 'x': '127.74354003497287', 'y': '37.87353420898751'}, {'address_name': '강원특별자치도 춘천시 효자동 631', 'category_group_code': 'FD6', 'category_group_name': '음식점', 'category_name': '음식점 > 일식 > 돈까스,우동', 'distance': '201', 'id': '21449210', 'phone': '033-255-6711', 'place_name': '돈까스타운', 'place_url': 'http://place.map.kakao.com/21449210', 'road_address_name': '강원특별자치도 춘천시 서부대성로227번길 24', 'x': '127.745172459543', 'y': '37.8733409990674'}, {'address_name': '강원특별자치도 춘천시 효자동 641-3', 'category_group_code': 'FD6', 'category_group_name': '음식점', 'category_name': '음식점 > 중식 > 중국요리', 'distance': '851', 'id': '10379849', 'phone': '033-251-3125', 'place_name': '복성원', 'place_url': 'http://place.map.kakao.com/10379849', 'road_address_name': '강원특별자치도 춘천시 춘천로 195', 'x': '127.735625421593', 'y': '37.8770011569824'}, {'address_name': '강원특별자치도 춘천시 효자동 183-6', 'category_group_code': 'FD6', 'category_group_name': '음식점', 'category_name': '음식점 > 중식 > 중국요리', 'distance': '383', 'id': '25895751', 'phone': '010-4779-6213', 'place_name': '죽향', 'place_url': 'http://place.map.kakao.com/25895751', 'road_address_name': '강원특별자치도 춘천시 효제길 55', 'x': '127.73937784445', 'y': '37.8707936649112'}, {'address_name': '강원특별자치도 춘천시 효자동 623-19', 'category_group_code': 'FD6', 'category_group_name': '음식점', 'category_name': '음식점 > 한식 > 국수', 'distance': '342', 'id': '10921899', 'phone': '033-253-0427', 'place_name': '해안막국수', 'place_url': 'http://place.map.kakao.com/10921899', 'road_address_name': '강원특별자치도 춘천시 백령로147번길 10', 'x': '127.742414568247', 'y': '37.8753188464702'}, {'address_name': '강원특별자치도 춘천시 효자동 612-5', 'category_group_code': 'FD6', 'category_group_name': '음식점', 'category_name': '음식점 > 술집 > 호프,요리주점', 'distance': '450', 'id': '16106044', 'phone': '0507-1416-2532', 'place_name': '너와집', 'place_url': 'http://place.map.kakao.com/16106044', 'road_address_name': '강원특별자치도 춘천시 서부대성로 187-2', 'x': '127.73968787346926', 'y': '37.87520267229725'}, {'address_name': '강원특별자치도 춘천시 후평동 67-78', 'category_group_code': 'FD6', 'category_group_name': '음식점', 'category_name': '음식점 > 한식 > 육류,고기 > 곱창,막창', 'distance': '826', 'id': '836149492', 'phone': '033-252-8872', 'place_name': '착한곱한우곱창 춘천1호점', 'place_url': 'http://place.map.kakao.com/836149492', 'road_address_name': '강원특별자치도 춘천시 백령로 214', 'x': '127.74969526543276', 'y': '37.8777592726984'}], 'meta': {'is_end': False, 'pageable_count': 45, 'same_name': None, 'total_count': 745}}\n"
     ]
    }
   ],
   "source": [
    "# 좌표 기준 카테고리 검색 rest api 실행. 기준-강원대 자연대학 기준\n",
    "category_result = search_by_category(127.743288, 37.872316, \"FD6\")\n",
    "print(category_result)"
   ]
  },
  {
   "cell_type": "code",
   "execution_count": 37,
   "id": "73c2f53e-1387-48b8-a981-1c8e440e0b1f",
   "metadata": {
    "scrolled": true
   },
   "outputs": [
    {
     "name": "stdout",
     "output_type": "stream",
     "text": [
      "육림객잔\n",
      "강원특별자치도 춘천시 효자3동\n",
      "진미닭갈비 본점\n",
      "강원특별자치도 춘천시 효자2동\n",
      "브릭스피자\n",
      "강원특별자치도 춘천시 효자3동\n",
      "1.5닭갈비\n",
      "강원특별자치도 춘천시 후평3동\n",
      "큰집한우\n",
      "강원특별자치도 춘천시 조운동\n",
      "감미옥\n",
      "강원특별자치도 춘천시 효자3동\n",
      "중화루\n",
      "강원특별자치도 춘천시 효자2동\n",
      "만석식당 강원대점\n",
      "강원특별자치도 춘천시 효자3동\n",
      "봉수닭갈비\n",
      "강원특별자치도 춘천시 효자3동\n",
      "돈까스타운\n",
      "강원특별자치도 춘천시 효자3동\n",
      "복성원\n",
      "강원특별자치도 춘천시 효자3동\n",
      "죽향\n",
      "강원특별자치도 춘천시 효자2동\n",
      "해안막국수\n",
      "강원특별자치도 춘천시 효자3동\n",
      "너와집\n",
      "강원특별자치도 춘천시 효자3동\n",
      "착한곱한우곱창 춘천1호점\n",
      "강원특별자치도 춘천시 후평2동\n"
     ]
    }
   ],
   "source": [
    "for document in category_result[\"documents\"]:\n",
    "    place_name = document[\"place_name\"]\n",
    "    print(place_name)\n",
    "    x = document['x']\n",
    "    y = document['y']\n",
    "    transfrom_result = transform_coordinates(x, y)\n",
    "    # 해당 장소에 대한 행정동을 결과값을 도출\n",
    "    print(transfrom_result['documents'][1]['address_name'])"
   ]
  },
  {
   "cell_type": "code",
   "execution_count": 15,
   "id": "de6a887a-bafd-4c78-a3f7-12d2820980d5",
   "metadata": {},
   "outputs": [],
   "source": [
    "# for document in category_result[\"documents\"]:\n",
    "#     address_name = document[\"address_name\"]\n",
    "#     place_name = document[\"place_name\"]\n",
    "\n",
    "#     # 해당 장소의 x, y좌표\n",
    "#     place_x = document[\"x\"]\n",
    "#     place_y = document[\"y\"]\n",
    "    \n",
    "#     # API 호출 및 데이터 처리\n",
    "#     search_result = search_naver_blog(place_name)\n",
    "#     print(place_name)\n",
    "    \n",
    "#     # 전처리된 데이터\n",
    "#     cleaned_contents = []\n",
    "    \n",
    "#     if 'items' in search_result:\n",
    "#         # 네이버 API로 주어진 키워드에 맞는 블로그 링크를 가져오기\n",
    "#         for item in search_result['items']:\n",
    "#             url = item['link']\n",
    "#             print(f\"처리 중: {url}\")\n",
    "            \n",
    "#             # 크롤링 실행 (리스트 반환)\n",
    "#             raw_contents = get_naver_blog_content(url)\n",
    "            \n",
    "#             # 데이터 정제 및 청크 분할\n",
    "#             for content in raw_contents:\n",
    "#                 cleaned = clean_text(content)  # 텍스트 정제\n",
    "#                 chunks = chunk_text(cleaned)  # 청크 분할\n",
    "                \n",
    "#                 # 임베딩 생성 및 저장\n",
    "#                 for chunk in chunks:\n",
    "#                     embedding = get_embedding(chunk)\n",
    "#                     index.add(np.array([embedding]))\n",
    "#                     metadata_store.append({\n",
    "#                         \"text\": chunk,\n",
    "#                         \"url\": url,\n",
    "#                         \"title\": item['title']\n",
    "#                     })\n",
    "#         print(f\"총 {len(metadata_store)}개의 청크가 처리되었습니다.\")\n",
    "    \n",
    "#         # 사용자 질문 처리 및 응답 생성 예시\n",
    "#         query = f\"{place_name}에 대해 긍정/부정 %로 나타내줘\"\n",
    "#         openai_message(query)\n",
    "#     else:\n",
    "#         print(\"API 요청 실패 또는 결과 없음\")"
   ]
  },
  {
   "cell_type": "code",
   "execution_count": 16,
   "id": "9e833e2c-8c28-44a2-b021-d869012f693d",
   "metadata": {},
   "outputs": [],
   "source": [
    "# # 강원대학교 후문의 경도와 위도\n",
    "# longitude = \"127.73983\"  # 경도\n",
    "# latitude = \"37.87760\"    # 위도\n",
    "# category_code = \"CE7\"    # 카테고리 코드 (예: 카페)\n",
    "\n",
    "\n",
    "# # 프롬프트 초기화\n",
    "# prompt = \"\"\"지금부터 당신은 장소 리뷰어가 된다. \n",
    "# 아래 스팟 리스트에 대해서 google에 해당 스팟의 리뷰에 대해, 부가적인 내용없이 각 스팟에 대해 출력 형식에 맞춰 답변한다.\n",
    "\n",
    "# 스팟 리스트\n",
    "# \"\"\"\n",
    "\n",
    "# prompt2 = \"\"\"\n",
    "# 출력 형식\n",
    "# 장소 이름/긍정평가:n%/부정평가:n%\n",
    "# 출처: url\n",
    "# \"\"\"\n",
    "\n",
    "# # API 호출 및 데이터 처리\n",
    "# result = search_by_category(longitude, latitude, category_code)\n",
    "\n",
    "# if result is not None:  # API 요청 성공 여부 확인\n",
    "#     documents = result.get('documents', [])\n",
    "#     if documents:  # 검색 결과가 있을 경우\n",
    "#         for idx, place in enumerate(documents, start=1):\n",
    "#             name = place.get('place_name')       # 장소 이름\n",
    "#             address = place.get('address_name')  # 주소\n",
    "            \n",
    "#             prompt += str(idx) + \". \" + name + \", \" + address + \"\\n\"\n",
    "#     else:  # 검색 결과가 없을 경우\n",
    "#         prompt += \"검색 결과가 없습니다.\\n\"\n",
    "# else:\n",
    "#     print(\"API 요청에 실패했습니다.\")\n",
    "\n",
    "# # 프롬프트 완성\n",
    "# prompt += prompt2\n",
    "\n",
    "# print(prompt)"
   ]
  }
 ],
 "metadata": {
  "kernelspec": {
   "display_name": "Python 3 (ipykernel)",
   "language": "python",
   "name": "python3"
  },
  "language_info": {
   "codemirror_mode": {
    "name": "ipython",
    "version": 3
   },
   "file_extension": ".py",
   "mimetype": "text/x-python",
   "name": "python",
   "nbconvert_exporter": "python",
   "pygments_lexer": "ipython3",
   "version": "3.10.16"
  }
 },
 "nbformat": 4,
 "nbformat_minor": 5
}
