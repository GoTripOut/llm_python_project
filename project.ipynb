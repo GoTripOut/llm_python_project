{
 "cells": [
  {
   "cell_type": "markdown",
   "id": "8b5bfbed-4bac-4e79-a8aa-5706df256edc",
   "metadata": {},
   "source": [
    "### 필요한 라이브러리 import"
   ]
  },
  {
   "cell_type": "code",
   "execution_count": 4,
   "id": "cf92118d-868f-4397-ada7-eb245147b412",
   "metadata": {},
   "outputs": [],
   "source": [
    "from openai import OpenAI\n",
    "from dotenv import load_dotenv\n",
    "import os\n",
    "import sys\n",
    "import urllib.request\n",
    "import urllib.parse\n",
    "import json\n",
    "import requests\n",
    "\n",
    "#selenium의 webdriver를 사용\n",
    "from selenium import webdriver\n",
    "from selenium.webdriver.common.by import By\n",
    "from selenium.common.exceptions import NoSuchElementException\n",
    "from selenium.webdriver.support.ui import WebDriverWait\n",
    "from selenium.webdriver.support import expected_conditions as EC\n",
    "\n",
    "import re\n",
    "import numpy as np\n",
    "import faiss\n",
    "from sklearn.metrics.pairwise import cosine_similarity"
   ]
  },
  {
   "cell_type": "markdown",
   "id": "8545f97d-d4eb-45b7-9e4b-8fea0c27b2fa",
   "metadata": {},
   "source": [
    "### OPENAI, kakao rest api, naver api 키를 .env 파일로부터 load"
   ]
  },
  {
   "cell_type": "code",
   "execution_count": 18,
   "id": "3e5158b3-fbe2-4b4b-bd0e-8f9964d3da44",
   "metadata": {},
   "outputs": [],
   "source": [
    "# env 파일 로드\n",
    "load_dotenv()\n",
    "\n",
    "\n",
    "# openai api, kakao rest api, naver api 키 로드\n",
    "OPENAI_API_KEY = os.getenv('OPENAI_API_KEY')\n",
    "KAKAO_REST_API_KEY = os.getenv('KAKAO_RESTAPI_KEY')\n",
    "NAVER_API_CLIENT_ID = os.getenv('NAVER_API_CLIENT_ID')\n",
    "NAVER_API_CLIENT_SECRET = os.getenv('NAVER_API_CLIENT_SECRET')\n",
    "\n",
    "# OpenAI client 정의\n",
    "client = OpenAI(api_key = OPENAI_API_KEY)\n",
    "\n",
    "# 프롬프트\n",
    "prompt = \"\"\"지금부터 당신은 장소 리뷰어가 된다. \n",
    "아래 스팟 리스트에 대해서 google에 해당 스팟의 리뷰에 대해, 부가적인 내용없이 각 스팟에 대해 출력 형식에 맞춰 답변한다.\n",
    "\n",
    "스팟 리스트\n",
    "\"\"\"\n",
    "\n",
    "prompt2 = \"\"\"\n",
    "출력 형식\n",
    "장소 이름/긍정평가:n%/부정평가:n%\n",
    "출처: url\n",
    "\"\"\"\n",
    "\n",
    "system_prompt = system_prompt = \"\"\"반드시 다음 규칙을 지켜 답변하시오:\n",
    "1. 제공된 문맥에만 기반하여 답변\n",
    "2. 문맥에 없는 정보는 '관련 정보를 찾을 수 없습니다'로 통일\n",
    "3. 긍정, 부정적인지를 합 100%으로 각각 답변\"\"\""
   ]
  },
  {
   "cell_type": "markdown",
   "id": "76f9072d-fcb1-42f6-a59e-dd6e9687681c",
   "metadata": {},
   "source": [
    "### OpenAI api를 활용해 ChatGPT 활용하기"
   ]
  },
  {
   "cell_type": "code",
   "execution_count": 6,
   "id": "7723cc48-9667-4292-8a7a-ccd58357feba",
   "metadata": {},
   "outputs": [],
   "source": [
    "def openai_message(message):\n",
    "    context_chunks = search(query)\n",
    "    context = \"\\n\\n\".join([chunk[\"text\"] for chunk in context_chunks])\n",
    "    \n",
    "    completion = client.chat.completions.create(\n",
    "    model=\"gpt-4o-mini\",\n",
    "    messages=[\n",
    "        { \"role\": \"system\", \"content\": system_prompt },\n",
    "        { \"role\": \"user\", \"content\": f\"문맥:\\n{context}\\n\\n출처: {url}\\n\\n질문: {message}\" }\n",
    "    ],\n",
    "    temperature = 0.3,\n",
    "    max_tokens = 300 # 출력 길이 제한\n",
    "    )\n",
    "\n",
    "    print(completion.choices[0].message.content)"
   ]
  },
  {
   "cell_type": "code",
   "execution_count": 7,
   "id": "e99bfc3a-7ce3-4741-8232-4205c52d8c32",
   "metadata": {},
   "outputs": [],
   "source": [
    "def kakao_rest_api(longitude, latitude):\n",
    "    url = 'https://dapi.kakao.com/v2/local/geo/coord2regioncode.json'\n",
    "    headers = {'Authorization': f'KakaoAK {KAKAO_REST_API_KEY}'}\n",
    "    params = {'x': longitude, 'y': latitude}\n",
    "    \n",
    "    response = requests.get(url, headers=headers, params=params)\n",
    "    \n",
    "    # 데이터를 성공적으로 불러온 경우, code = 200\n",
    "    if response.status_code == 200:\n",
    "        return response.json()\n",
    "    else:\n",
    "        return None"
   ]
  },
  {
   "cell_type": "markdown",
   "id": "531d7201-15c4-40fe-96cd-f0661bfd89e7",
   "metadata": {},
   "source": [
    "### 카카오 Rest api를 활용해 해당 좌표의 카테고리별 결과 불러오기"
   ]
  },
  {
   "cell_type": "code",
   "execution_count": 8,
   "id": "e9f4ec54-0855-4d60-8ed2-2a65f282e487",
   "metadata": {},
   "outputs": [],
   "source": [
    "def search_by_category(longitude, latitude, category_code):\n",
    "    url = 'https://dapi.kakao.com/v2/local/search/category.json'\n",
    "    headers = {'Authorization': f'KakaoAK {KAKAO_REST_API_KEY}'}\n",
    "    params = {\n",
    "        'category_group_code': category_code,\n",
    "        'x': longitude,\n",
    "        'y': latitude,\n",
    "        'radius': 1000,  # 검색 반경 설정 (단위: 미터)\n",
    "        'size': 15       # 한 페이지에 보여질 결과 개수\n",
    "    }\n",
    "\n",
    "    # API 요청\n",
    "    response = requests.get(url, headers=headers, params=params)\n",
    "\n",
    "    # 응답 처리\n",
    "    if response.status_code == 200:\n",
    "        return response.json()  # 성공적으로 데이터를 반환\n",
    "    else:\n",
    "        print(f\"Error: {response.status_code}, {response.text}\")\n",
    "        return None  # 실패 시 None 반환"
   ]
  },
  {
   "cell_type": "markdown",
   "id": "d94b00f0-8088-4bc1-8a61-09364316afe1",
   "metadata": {},
   "source": [
    "### 네이버 API를 통한 키워드 검색"
   ]
  },
  {
   "cell_type": "code",
   "execution_count": 9,
   "id": "f5ffa418-5ea4-41ad-923a-084c68e9be07",
   "metadata": {},
   "outputs": [],
   "source": [
    "def search_naver_blog(keyword):\n",
    "    client_id = NAVER_API_CLIENT_ID\n",
    "    client_secret = NAVER_API_CLIENT_SECRET\n",
    "    # 블로그에 검색할 키워드\n",
    "    encText = urllib.parse.quote(keyword)\n",
    "    url = \"https://openapi.naver.com/v1/search/blog?query=\" + encText\n",
    "    \n",
    "    request = urllib.request.Request(url)\n",
    "    request.add_header(\"X-Naver-Client-Id\",client_id)\n",
    "    request.add_header(\"X-Naver-Client-Secret\",client_secret)\n",
    "    response = urllib.request.urlopen(request)\n",
    "    rescode = response.getcode()\n",
    "\n",
    "    # 정상적으로 블로그글이 로드된 경우\n",
    "    if(rescode==200):\n",
    "        response_body = response.read()\n",
    "        return json.loads(response_body.decode('utf-8'))\n",
    "    # 오류 발생의 경우\n",
    "    else:\n",
    "        print(\"Error Code:\" + rescode)"
   ]
  },
  {
   "cell_type": "markdown",
   "id": "8dcef766-a59e-4580-988e-993317e64124",
   "metadata": {},
   "source": [
    "### 블로그 링크 크롤링"
   ]
  },
  {
   "cell_type": "code",
   "execution_count": 10,
   "id": "42021551-c35d-40ec-86f9-29bfe38e9740",
   "metadata": {},
   "outputs": [],
   "source": [
    "def get_naver_blog_content(url):\n",
    "    # 본문 내용을 저장할 리스트\n",
    "    contents = []\n",
    "    \n",
    "    # Selenium WebDriver 설정하기\n",
    "    driver = webdriver.Chrome()\n",
    "\n",
    "    try:\n",
    "        driver.get(url)\n",
    "        # iframe 로딩 대기 및 전환\n",
    "        WebDriverWait(driver, 10).until(\n",
    "            EC.frame_to_be_available_and_switch_to_it((By.ID, \"mainFrame\"))\n",
    "        )\n",
    "\n",
    "        #본문 내용 크롤링하기\n",
    "        try:\n",
    "            # 최신 네이버 블로그\n",
    "            a = driver.find_element(By.CSS_SELECTOR,'div.se-main-container').text\n",
    "            contents.append(a)\n",
    "            \n",
    "        except NoSuchElementException:\n",
    "            # 구 버전 네이버 블로그\n",
    "            a = driver.find_element(By.CSS_SELECTOR,'div#content-area').text\n",
    "            contents.append(a)\n",
    "        # print('본문: \\n', a)\n",
    "        \n",
    "    except Exception as e:\n",
    "        print(f\"오류 발생: {e}\")\n",
    "        \n",
    "    finally:\n",
    "        driver.quit() #창닫기\n",
    "        print(\"<<본문 크롤링이 완료되었습니다.>>\")\n",
    "\n",
    "    return contents"
   ]
  },
  {
   "cell_type": "code",
   "execution_count": 11,
   "id": "c45e73f0-4528-4c9c-8bb0-e273fdac61c6",
   "metadata": {},
   "outputs": [],
   "source": [
    "# 2. 데이터 정리\n",
    "def clean_text(text):\n",
    "    # 입력값이 문자열인지 확인\n",
    "    if not isinstance(text, str):\n",
    "        text = str(text)  # 문자열로 변환\n",
    "    text = re.sub(r\"[^\\w\\s가-힣]\", \" \", text)  # 특수문자 및 이모지 제거\n",
    "    text = re.sub(r\"\\s+\", \" \", text).strip()  # 공백 정리\n",
    "    return text"
   ]
  },
  {
   "cell_type": "code",
   "execution_count": 12,
   "id": "c5f7bb62-4ae3-4295-a37a-22445c82be73",
   "metadata": {},
   "outputs": [],
   "source": [
    "# 3. 청크 분할\n",
    "def chunk_text(text, chunk_size=300, overlap=50):\n",
    "    words = text.split()\n",
    "    chunks = []\n",
    "    for i in range(0, len(words), chunk_size - overlap):\n",
    "        chunk = \" \".join(words[i:i+chunk_size])\n",
    "        if len(chunk) > 10:  # 10자 미만 청크 제외\n",
    "            chunks.append(chunk)\n",
    "    return chunks if chunks else [\"[No valid chunks]\"]  # 빈 청크 방지"
   ]
  },
  {
   "cell_type": "code",
   "execution_count": 13,
   "id": "97fbdd09-c47d-4dee-a2c6-3f661515ff0c",
   "metadata": {},
   "outputs": [],
   "source": [
    "# 4. 임베딩 생성\n",
    "def get_embedding(text):\n",
    "    response = client.embeddings.create(\n",
    "        input=text,\n",
    "        model=\"text-embedding-3-small\"\n",
    "    )\n",
    "    return response.data[0].embedding"
   ]
  },
  {
   "cell_type": "code",
   "execution_count": 14,
   "id": "add47427-1554-488f-a7aa-3783d9841ce3",
   "metadata": {},
   "outputs": [],
   "source": [
    "def search(query, top_k=3):\n",
    "    if not metadata_store:\n",
    "        return []\n",
    "    \n",
    "    # 쿼리 임베딩 생성\n",
    "    query_embedding = get_embedding(query)\n",
    "    \n",
    "    # FAISS 검색 (k 필수 지정)\n",
    "    distances, indices = index.search(\n",
    "        np.array([query_embedding]).astype('float32'),  # 2D 배열로 변환\n",
    "        top_k  # 상위 k개 결과 요청\n",
    "    )\n",
    "    \n",
    "    # 유효한 인덱스 필터링\n",
    "    valid_indices = [i for i in indices[0] if i < len(metadata_store)]\n",
    "    return [metadata_store[i] for i in valid_indices]"
   ]
  },
  {
   "cell_type": "code",
   "execution_count": 15,
   "id": "cbfed05f-d5e1-4cb2-96e8-93ba65485f77",
   "metadata": {},
   "outputs": [],
   "source": [
    "# 5. 벡터 DB 초기화\n",
    "embedding_dim = 1536  # text-embedding-3-small 차원\n",
    "index = faiss.IndexFlatL2(embedding_dim)\n",
    "metadata_store = []"
   ]
  },
  {
   "cell_type": "markdown",
   "id": "f9c6d000-352b-4a99-a012-04938b7e3d83",
   "metadata": {},
   "source": [
    "### main 함수 실행 part"
   ]
  },
  {
   "cell_type": "code",
   "execution_count": null,
   "id": "c75c8023-7d5d-46eb-b8b7-e12046de798f",
   "metadata": {},
   "outputs": [],
   "source": [
    "print(search_by_category(longitude, latitude, category_code))"
   ]
  },
  {
   "cell_type": "code",
   "execution_count": 19,
   "id": "de6a887a-bafd-4c78-a3f7-12d2820980d5",
   "metadata": {},
   "outputs": [
    {
     "name": "stdout",
     "output_type": "stream",
     "text": [
      "처리 중: https://blog.naver.com/sein0728/223551485543\n",
      "<<본문 크롤링이 완료되었습니다.>>\n",
      "처리 중: https://blog.naver.com/kerri52/223563081521\n",
      "<<본문 크롤링이 완료되었습니다.>>\n",
      "처리 중: https://blog.naver.com/ilsang37/223762942465\n",
      "<<본문 크롤링이 완료되었습니다.>>\n",
      "처리 중: https://blog.naver.com/khjin1473/223475720582\n",
      "<<본문 크롤링이 완료되었습니다.>>\n",
      "처리 중: https://blog.naver.com/winner2547/223454762862\n",
      "<<본문 크롤링이 완료되었습니다.>>\n",
      "처리 중: https://blog.naver.com/nitnal_/223167987864\n",
      "<<본문 크롤링이 완료되었습니다.>>\n",
      "처리 중: https://blog.naver.com/sensucck/223667878642\n",
      "<<본문 크롤링이 완료되었습니다.>>\n",
      "처리 중: https://blog.naver.com/98kimes/223346373113\n",
      "<<본문 크롤링이 완료되었습니다.>>\n",
      "처리 중: https://blog.naver.com/hong1004mang/20206401418\n",
      "<<본문 크롤링이 완료되었습니다.>>\n",
      "처리 중: https://blog.naver.com/wez030/223022873536\n",
      "<<본문 크롤링이 완료되었습니다.>>\n",
      "총 32개의 청크가 처리되었습니다.\n",
      "긍정: 95%  \n",
      "부정: 5%\n"
     ]
    }
   ],
   "source": [
    "# API 호출 및 데이터 처리\n",
    "search_result = search_naver_blog(\"리네 춘천\")\n",
    "\n",
    "# 전처리된 데이터\n",
    "cleaned_contents = []\n",
    "\n",
    "if 'items' in search_result:\n",
    "    # 네이버 API로 주어진 키워드에 맞는 블로그 링크를 가져오기\n",
    "    for item in search_result['items']:\n",
    "        url = item['link']\n",
    "        print(f\"처리 중: {url}\")\n",
    "        \n",
    "        # 크롤링 실행 (리스트 반환)\n",
    "        raw_contents = get_naver_blog_content(url)\n",
    "        \n",
    "        # 데이터 정제 및 청크 분할\n",
    "        for content in raw_contents:\n",
    "            cleaned = clean_text(content)  # 텍스트 정제\n",
    "            chunks = chunk_text(cleaned)  # 청크 분할\n",
    "            \n",
    "            # 임베딩 생성 및 저장\n",
    "            for chunk in chunks:\n",
    "                embedding = get_embedding(chunk)\n",
    "                index.add(np.array([embedding]))\n",
    "                metadata_store.append({\n",
    "                    \"text\": chunk,\n",
    "                    \"url\": url,\n",
    "                    \"title\": item['title']\n",
    "                })\n",
    "    print(f\"총 {len(metadata_store)}개의 청크가 처리되었습니다.\")\n",
    "\n",
    "    # 사용자 질문 처리 및 응답 생성 예시\n",
    "    query = \"리네 춘천에 대해 긍정/부정 %로 나타내줘\"\n",
    "    openai_message(query)\n",
    "else:\n",
    "    print(\"API 요청 실패 또는 결과 없음\")"
   ]
  },
  {
   "cell_type": "code",
   "execution_count": 17,
   "id": "9e833e2c-8c28-44a2-b021-d869012f693d",
   "metadata": {},
   "outputs": [],
   "source": [
    "# # 강원대학교 후문의 경도와 위도\n",
    "# longitude = \"127.73983\"  # 경도\n",
    "# latitude = \"37.87760\"    # 위도\n",
    "# category_code = \"CE7\"    # 카테고리 코드 (예: 카페)\n",
    "\n",
    "\n",
    "# # 프롬프트 초기화\n",
    "# prompt = \"\"\"지금부터 당신은 장소 리뷰어가 된다. \n",
    "# 아래 스팟 리스트에 대해서 google에 해당 스팟의 리뷰에 대해, 부가적인 내용없이 각 스팟에 대해 출력 형식에 맞춰 답변한다.\n",
    "\n",
    "# 스팟 리스트\n",
    "# \"\"\"\n",
    "\n",
    "# prompt2 = \"\"\"\n",
    "# 출력 형식\n",
    "# 장소 이름/긍정평가:n%/부정평가:n%\n",
    "# 출처: url\n",
    "# \"\"\"\n",
    "\n",
    "# # API 호출 및 데이터 처리\n",
    "# result = search_by_category(longitude, latitude, category_code)\n",
    "\n",
    "# if result is not None:  # API 요청 성공 여부 확인\n",
    "#     documents = result.get('documents', [])\n",
    "#     if documents:  # 검색 결과가 있을 경우\n",
    "#         for idx, place in enumerate(documents, start=1):\n",
    "#             name = place.get('place_name')       # 장소 이름\n",
    "#             address = place.get('address_name')  # 주소\n",
    "            \n",
    "#             prompt += str(idx) + \". \" + name + \", \" + address + \"\\n\"\n",
    "#     else:  # 검색 결과가 없을 경우\n",
    "#         prompt += \"검색 결과가 없습니다.\\n\"\n",
    "# else:\n",
    "#     print(\"API 요청에 실패했습니다.\")\n",
    "\n",
    "# # 프롬프트 완성\n",
    "# prompt += prompt2\n",
    "\n",
    "# print(prompt)"
   ]
  }
 ],
 "metadata": {
  "kernelspec": {
   "display_name": "Python 3 (ipykernel)",
   "language": "python",
   "name": "python3"
  },
  "language_info": {
   "codemirror_mode": {
    "name": "ipython",
    "version": 3
   },
   "file_extension": ".py",
   "mimetype": "text/x-python",
   "name": "python",
   "nbconvert_exporter": "python",
   "pygments_lexer": "ipython3",
   "version": "3.10.16"
  }
 },
 "nbformat": 4,
 "nbformat_minor": 5
}
