{
 "cells": [
  {
   "cell_type": "code",
   "execution_count": 4,
   "id": "cf92118d-868f-4397-ada7-eb245147b412",
   "metadata": {},
   "outputs": [],
   "source": [
    "from openai import OpenAI\n",
    "from dotenv import load_dotenv\n",
    "import os\n",
    "import requests"
   ]
  },
  {
   "cell_type": "code",
   "execution_count": 22,
   "id": "3e5158b3-fbe2-4b4b-bd0e-8f9964d3da44",
   "metadata": {},
   "outputs": [],
   "source": [
    "# env 파일 로드\n",
    "load_dotenv()\n",
    "\n",
    "# openai, kakao rest api 키 로드\n",
    "OPENAI_API_KEY = os.getenv('OPENAI_API_KEY')\n",
    "KAKAO_REST_API_KEY = os.getenv('KAKAO_RESTAPI_KEY')"
   ]
  },
  {
   "cell_type": "code",
   "execution_count": 15,
   "id": "7723cc48-9667-4292-8a7a-ccd58357feba",
   "metadata": {},
   "outputs": [],
   "source": [
    "def openai_message():\n",
    "    client = OpenAI(api_key = openai_api_key)\n",
    "    completion = client.chat.completions.create(\n",
    "    model=\"gpt-4o-mini-search-preview\",\n",
    "    web_search_options={\n",
    "        \"user_location\": {\n",
    "            \"type\": \"approximate\",\n",
    "            \"approximate\": {\n",
    "                \"country\": \"KR\",  # 대한민국\n",
    "                \"city\": \"Chuncheon\",  # 춘천\n",
    "                \"region\": \"Gangwon\"  # 강원도\n",
    "            }\n",
    "        },\n",
    "        \"search_context_size\": \"medium\"  # 검색 컨텍스트 크기 (low, medium, high 중 선택)\n",
    "    },\n",
    "    messages=[{\n",
    "        \"role\": \"user\",\n",
    "        \"content\": \"\"\"지금부터 당신은 장소 리뷰어가 된다. \n",
    "아래 스팟 리스트에 대해서 google에 해당 스팟을 검색해 접근 가능한 블로그글, 리뷰글에 대해, 부가적인 내용없이 각 스팟에 대해 출력 형식에 맞춰 답변한다.\n",
    "\n",
    "스팟 리스트\n",
    "1. 리네 춘천\n",
    "2. 브릭스피자 춘천\n",
    "3. 오믈하우스 춘천\n",
    "4. 송탄햄버거 춘천\n",
    "5. 만석식당 춘천\n",
    "\n",
    "출력 형식\n",
    "장소 이름/긍정평가:n%/부정평가:n%\n",
    "출처: {url}\"\"\"\n",
    "    }]\n",
    ")\n",
    "\n",
    "    print(completion.choices[0].message.content)"
   ]
  },
  {
   "cell_type": "code",
   "execution_count": 9,
   "id": "e99bfc3a-7ce3-4741-8232-4205c52d8c32",
   "metadata": {},
   "outputs": [],
   "source": [
    "def kakao_rest_api(longitude, latitude):\n",
    "    url = 'https://dapi.kakao.com/v2/local/geo/coord2regioncode.json'\n",
    "    headers = {'Authorization': f'KakaoAK {KAKAO_REST_API_KEY}'}\n",
    "    params = {'x': longitude, 'y': latitude}\n",
    "    \n",
    "    response = requests.get(url, headers=headers, params=params)\n",
    "    \n",
    "    # 데이터를 성공적으로 불러온 경우, code = 200\n",
    "    if response.status_code == 200:\n",
    "        return response.json()\n",
    "    else:\n",
    "        return None"
   ]
  },
  {
   "cell_type": "code",
   "execution_count": 23,
   "id": "e9f4ec54-0855-4d60-8ed2-2a65f282e487",
   "metadata": {},
   "outputs": [],
   "source": [
    "def search_by_category(longitude, latitude, category_code):\n",
    "    url = 'https://dapi.kakao.com/v2/local/search/category.json'\n",
    "    headers = {'Authorization': f'KakaoAK {KAKAO_REST_API_KEY}'}\n",
    "    params = {\n",
    "        'category_group_code': category_code,\n",
    "        'x': longitude,\n",
    "        'y': latitude,\n",
    "        'radius': 2000,  # 검색 반경 설정 (단위: 미터)\n",
    "        'size': 15       # 한 페이지에 보여질 결과 개수\n",
    "    }\n",
    "\n",
    "    # API 요청\n",
    "    response = requests.get(url, headers=headers, params=params)\n",
    "\n",
    "    # 응답 처리\n",
    "    if response.status_code == 200:\n",
    "        return response.json()  # 성공적으로 데이터를 반환\n",
    "    else:\n",
    "        print(f\"Error: {response.status_code}, {response.text}\")\n",
    "        return None  # 실패 시 None 반환"
   ]
  },
  {
   "cell_type": "code",
   "execution_count": 25,
   "id": "9e833e2c-8c28-44a2-b021-d869012f693d",
   "metadata": {},
   "outputs": [
    {
     "name": "stdout",
     "output_type": "stream",
     "text": [
      "{'documents': [{'address_name': '강원특별자치도 춘천시 교동 148-4', 'category_group_code': 'CE7', 'category_group_name': '카페', 'category_name': '음식점 > 카페', 'distance': '595', 'id': '1815650178', 'phone': '010-8823-0403', 'place_name': '그라시아커피로스터스', 'place_url': 'http://place.map.kakao.com/1815650178', 'road_address_name': '강원특별자치도 춘천시 교동길9번길 10', 'x': '127.735366831268', 'y': '37.8816299468414'}, {'address_name': '강원특별자치도 춘천시 효자동 619-1', 'category_group_code': 'CE7', 'category_group_name': '카페', 'category_name': '음식점 > 카페', 'distance': '354', 'id': '27408470', 'phone': '', 'place_name': '포지티브즈', 'place_url': 'http://place.map.kakao.com/27408470', 'road_address_name': '강원특별자치도 춘천시 서부대성로205번길 10', 'x': '127.741850488403', 'y': '37.8748322964497'}, {'address_name': '강원특별자치도 춘천시 효자동 601-11', 'category_group_code': 'CE7', 'category_group_name': '카페', 'category_name': '음식점 > 카페 > 테마카페 > 갤러리카페', 'distance': '389', 'id': '1565469687', 'phone': '', 'place_name': '예담카페', 'place_url': 'http://place.map.kakao.com/1565469687', 'road_address_name': '강원특별자치도 춘천시 도화길6번길 9', 'x': '127.736846745337', 'y': '37.8750078693504'}, {'address_name': '강원특별자치도 춘천시 운교동 186-8', 'category_group_code': 'CE7', 'category_group_name': '카페', 'category_name': '음식점 > 카페 > 테마카페 > 디저트카페', 'distance': '481', 'id': '96881025', 'phone': '', 'place_name': '그빵집비비', 'place_url': 'http://place.map.kakao.com/96881025', 'road_address_name': '강원특별자치도 춘천시 서부대성로 132', 'x': '127.734376043877', 'y': '37.8780071875474'}, {'address_name': '강원특별자치도 춘천시 조양동 6-115', 'category_group_code': 'CE7', 'category_group_name': '카페', 'category_name': '음식점 > 카페', 'distance': '726', 'id': '1684025922', 'phone': '', 'place_name': '교토정원', 'place_url': 'http://place.map.kakao.com/1684025922', 'road_address_name': '강원특별자치도 춘천시 서부대성로 98', 'x': '127.73251308472172', 'y': '37.88064410322781'}, {'address_name': '강원특별자치도 춘천시 후평동 689-3', 'category_group_code': 'CE7', 'category_group_name': '카페', 'category_name': '음식점 > 카페', 'distance': '538', 'id': '945133870', 'phone': '', 'place_name': '아글라오네마', 'place_url': 'http://place.map.kakao.com/945133870', 'road_address_name': '강원특별자치도 춘천시 춘천로282번길 15', 'x': '127.74550420992335', 'y': '37.87941837111495'}, {'address_name': '강원특별자치도 춘천시 효자동 758-12', 'category_group_code': 'CE7', 'category_group_name': '카페', 'category_name': '음식점 > 카페', 'distance': '207', 'id': '565881432', 'phone': '', 'place_name': '소셜하우스', 'place_url': 'http://place.map.kakao.com/565881432', 'road_address_name': '강원특별자치도 춘천시 춘천로310번길 70', 'x': '127.741983615709', 'y': '37.8783594980215'}, {'address_name': '강원특별자치도 춘천시 효자동 607-8', 'category_group_code': 'CE7', 'category_group_name': '카페', 'category_name': '음식점 > 카페 > 테마카페 > 디저트카페', 'distance': '248', 'id': '755625848', 'phone': '010-2490-6171', 'place_name': '퍼스트러브', 'place_url': 'http://place.map.kakao.com/755625848', 'road_address_name': '강원특별자치도 춘천시 서부대성로 181-1', 'x': '127.738974462266', 'y': '37.8754666203481'}, {'address_name': '강원특별자치도 춘천시 효자동 745-6', 'category_group_code': 'CE7', 'category_group_name': '카페', 'category_name': '음식점 > 카페', 'distance': '187', 'id': '1121388726', 'phone': '', 'place_name': '오르미', 'place_url': 'http://place.map.kakao.com/1121388726', 'road_address_name': '강원특별자치도 춘천시 전원길 27-1', 'x': '127.73792363841928', 'y': '37.87836699820136'}, {'address_name': '강원특별자치도 춘천시 효자동 653', 'category_group_code': 'CE7', 'category_group_name': '카페', 'category_name': '음식점 > 카페 > 커피전문점 > 메가MGC커피', 'distance': '370', 'id': '980171195', 'phone': '033-251-1196', 'place_name': '메가MGC커피 춘천팔호광장점', 'place_url': 'http://place.map.kakao.com/980171195', 'road_address_name': '강원특별자치도 춘천시 효자로 154', 'x': '127.735951526325', 'y': '37.8763054027695'}, {'address_name': '강원특별자치도 춘천시 효자동 632-3', 'category_group_code': 'CE7', 'category_group_name': '카페', 'category_name': '음식점 > 카페 > 커피전문점 > 스타벅스', 'distance': '707', 'id': '17884702', 'phone': '', 'place_name': '스타벅스 강원대점', 'place_url': 'http://place.map.kakao.com/17884702', 'road_address_name': '강원특별자치도 춘천시 서부대성로 243-1', 'x': '127.745094098958', 'y': '37.8727829184059'}, {'address_name': '강원특별자치도 춘천시 효자동 623-8', 'category_group_code': 'CE7', 'category_group_name': '카페', 'category_name': '음식점 > 카페 > 테마카페 > 디저트카페', 'distance': '403', 'id': '1109229589', 'phone': '', 'place_name': '카페위위', 'place_url': 'http://place.map.kakao.com/1109229589', 'road_address_name': '강원특별자치도 춘천시 백령로147번길 2', 'x': '127.743052557597', 'y': '37.8750157127632'}, {'address_name': '강원특별자치도 춘천시 효자동 753-8', 'category_group_code': 'CE7', 'category_group_name': '카페', 'category_name': '음식점 > 카페', 'distance': '197', 'id': '2060389195', 'phone': '033-251-1157', 'place_name': '네모커피', 'place_url': 'http://place.map.kakao.com/2060389195', 'road_address_name': '강원특별자치도 춘천시 전원길 49-1', 'x': '127.740100057141', 'y': '37.8793659805073'}, {'address_name': '강원특별자치도 춘천시 옥천동 39-21', 'category_group_code': 'CE7', 'category_group_name': '카페', 'category_name': '음식점 > 카페 > 커피전문점', 'distance': '985', 'id': '1852898652', 'phone': '010-9948-3205', 'place_name': '책방마실', 'place_url': 'http://place.map.kakao.com/1852898652', 'road_address_name': '강원특별자치도 춘천시 옥천길 27', 'x': '127.73025396212891', 'y': '37.88219872809662'}, {'address_name': '강원특별자치도 춘천시 운교동 134-9', 'category_group_code': 'CE7', 'category_group_name': '카페', 'category_name': '음식점 > 카페', 'distance': '625', 'id': '1300061946', 'phone': '0507-1498-1320', 'place_name': '핀든하우스', 'place_url': 'http://place.map.kakao.com/1300061946', 'road_address_name': '강원특별자치도 춘천시 춘천로167번길 6-1', 'x': '127.732769571304', 'y': '37.876932478128'}], 'meta': {'is_end': False, 'pageable_count': 45, 'same_name': None, 'total_count': 525}}\n"
     ]
    }
   ],
   "source": [
    "# 강원대학교 후문의 경도와 위도\n",
    "longitude = \"127.73983\"  # 경도\n",
    "latitude = \"37.87760\"    # 위도\n",
    "category_code = \"CE7\"    # 카테고리 코드 (예: 카페)\n",
    "\n",
    "result = search_by_category(longitude, latitude, category_code)\n",
    "if result:\n",
    "    print(result)\n",
    "else:\n",
    "    print(\"API 요청에 실패했습니다.\")"
   ]
  }
 ],
 "metadata": {
  "kernelspec": {
   "display_name": "Python 3 (ipykernel)",
   "language": "python",
   "name": "python3"
  },
  "language_info": {
   "codemirror_mode": {
    "name": "ipython",
    "version": 3
   },
   "file_extension": ".py",
   "mimetype": "text/x-python",
   "name": "python",
   "nbconvert_exporter": "python",
   "pygments_lexer": "ipython3",
   "version": "3.10.16"
  }
 },
 "nbformat": 4,
 "nbformat_minor": 5
}
