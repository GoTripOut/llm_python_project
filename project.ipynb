{
 "cells": [
  {
   "cell_type": "code",
   "execution_count": 3,
   "id": "cf92118d-868f-4397-ada7-eb245147b412",
   "metadata": {},
   "outputs": [],
   "source": [
    "from openai import OpenAI\n",
    "from dotenv import load_dotenv\n",
    "import os"
   ]
  },
  {
   "cell_type": "code",
   "execution_count": 4,
   "id": "3e5158b3-fbe2-4b4b-bd0e-8f9964d3da44",
   "metadata": {},
   "outputs": [
    {
     "ename": "NameError",
     "evalue": "name 'load_dotenv' is not defined",
     "output_type": "error",
     "traceback": [
      "\u001b[1;31m---------------------------------------------------------------------------\u001b[0m",
      "\u001b[1;31mNameError\u001b[0m                                 Traceback (most recent call last)",
      "Cell \u001b[1;32mIn[4], line 2\u001b[0m\n\u001b[0;32m      1\u001b[0m \u001b[38;5;66;03m# env 파일 로드\u001b[39;00m\n\u001b[1;32m----> 2\u001b[0m \u001b[43mload_dotenv\u001b[49m()\n\u001b[0;32m      4\u001b[0m openai_api_key \u001b[38;5;241m=\u001b[39m os\u001b[38;5;241m.\u001b[39mgetenv(\u001b[38;5;124m'\u001b[39m\u001b[38;5;124mOPENAI_API_KEY\u001b[39m\u001b[38;5;124m'\u001b[39m)\n\u001b[0;32m      5\u001b[0m \u001b[38;5;28mprint\u001b[39m(openai_api_key)\n",
      "\u001b[1;31mNameError\u001b[0m: name 'load_dotenv' is not defined"
     ]
    }
   ],
   "source": [
    "# env 파일 로드\n",
    "load_dotenv()\n",
    "\n",
    "openai_api_key = os.getenv('OPENAI_API_KEY')\n",
    "print(openai_api_key)\n",
    "\n",
    "client = OpenAI(api_key = openai_api_key)"
   ]
  },
  {
   "cell_type": "code",
   "execution_count": 11,
   "id": "e99bfc3a-7ce3-4741-8232-4205c52d8c32",
   "metadata": {},
   "outputs": [
    {
     "name": "stdout",
     "output_type": "stream",
     "text": [
      "리네/긍정평가:80%/부정평가:20%\n",
      "브릭스피자/긍정평가:85%/부정평가:15%\n",
      "오믈하우스/긍정평가:90%/부정평가:10%\n",
      "송탄햄버거/긍정평가:75%/부정평가:25%\n",
      "만석식당/긍정평가:70%/부정평가:30% \n"
     ]
    }
   ],
   "source": [
    "# completion = client.chat.completions.create(\n",
    "#     model=\"gpt-4o-mini-search-preview\",\n",
    "#     web_search_options={\n",
    "#         \"user_location\": {\n",
    "#             \"type\": \"approximate\",\n",
    "#             \"approximate\": {\n",
    "#                 \"country\": \"KR\",  # 대한민국\n",
    "#                 \"city\": \"Chuncheon\",  # 춘천\n",
    "#                 \"region\": \"Gangwon\"  # 강원도\n",
    "#             }\n",
    "#         },\n",
    "#         \"search_context_size\": \"medium\"  # 검색 컨텍스트 크기 (low, medium, high 중 선택)\n",
    "#     },\n",
    "#     messages=[{\n",
    "#         \"role\": \"user\",\n",
    "#         \"content\": \"\"\"지금부터 당신은 장소 리뷰어가 된다. \n",
    "# 아래 스팟 리스트에 대해서 인터넷 상 접근 가능한 모든 리뷰 내용에 대해, 부가적인 내용없이 각 스팟에 대해 출력 형식에 맞춰 답변한다.\n",
    "\n",
    "# 스팟 리스트\n",
    "# 1. 리네\n",
    "# 2. 브릭스피자\n",
    "# 3. 오믈하우스\n",
    "# 4. 송탄햄버거\n",
    "# 5. 만석식당\n",
    "\n",
    "# 출력 형식\n",
    "# 장소 이름/긍정평가:n%/부정평가:n%\"\"\"\n",
    "#     }]\n",
    "# )\n",
    "#\n",
    "# print(completion.choices[0].message.content)\n"
   ]
  }
 ],
 "metadata": {
  "kernelspec": {
   "display_name": "Python 3 (ipykernel)",
   "language": "python",
   "name": "python3"
  },
  "language_info": {
   "codemirror_mode": {
    "name": "ipython",
    "version": 3
   },
   "file_extension": ".py",
   "mimetype": "text/x-python",
   "name": "python",
   "nbconvert_exporter": "python",
   "pygments_lexer": "ipython3",
   "version": "3.10.16"
  }
 },
 "nbformat": 4,
 "nbformat_minor": 5
}
